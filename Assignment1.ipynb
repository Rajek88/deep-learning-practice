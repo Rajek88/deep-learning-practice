{
  "nbformat": 4,
  "nbformat_minor": 0,
  "metadata": {
    "colab": {
      "name": "Assignment1",
      "provenance": []
    },
    "kernelspec": {
      "name": "python3",
      "display_name": "Python 3"
    },
    "language_info": {
      "name": "python"
    }
  },
  "cells": [
    {
      "cell_type": "markdown",
      "source": [
        "##Introduction to Keras and Tensorflow (Optional – Pytorch). Configure and use google colab and kaggle GPU\n",
        "\n",
        "Objectives:\n",
        "1. To configure anaconda and google colab, kaggle environment\n",
        "2. To Explore TF/Keras/Pytorch libraries\n",
        "3. To learn to use GPU/TPU\n",
        "4. To learn and understand Git\n",
        "Theory:\n",
        "Keras Configuration\n",
        "1. Setup Environment\n",
        "2. pip install keras\n",
        "3. to check whether it has installed properly: python>>import keras\n",
        " Python>> print keras.__version__\n",
        "Tensorflow Configuration:\n",
        "1. pip install tensorflow==2.2.0\n",
        "2. To verify installation: python>> import tensorflow as tf\n",
        "If no error then the installation has been completed\n",
        "Colaboratory Configuration\n",
        "1. Setup the environment\n",
        "2. Connect to the Drive\n",
        "3. Upload the files using: from google.colab import files\n",
        "files.upload()\n",
        "Kaggle Configuration:\n",
        "1. Create a Kaggle Account\n",
        "2. Create an Authorization token\n",
        "3. Upload on Colab using the upload code\n",
        "4. Make a folder and make the Json file executable\n",
        "5. Get the dataset\n",
        "6. Copy the API command and run on colab\n",
        "GitHub Configuration\n",
        "1. pip install git\n",
        "2. Set up user profile by: global user.name “name”\n",
        "Global user.email “mail”\n",
        "Dataset Attributes:\n",
        "1. Pregnancies\n",
        "2. Glucose\n",
        "3. BloodPressure\n",
        "4. SkinThickness\n",
        "5. Insulin\n",
        "6. BMI\n",
        "7. DiabetesPedigreeFunction\n",
        "8. Age\n",
        "9. Outcome"
      ],
      "metadata": {
        "id": "ADM9QJuqkUm9"
      }
    },
    {
      "cell_type": "code",
      "execution_count": 2,
      "metadata": {
        "id": "E0qfPqffjMhh"
      },
      "outputs": [],
      "source": [
        "#dataset = https://www.kaggle.com/saurabh00007/diabetescsv\n",
        "import pandas as pd\n",
        "import numpy as np\n",
        "import tensorflow as tf\n",
        "from tensorflow import keras\n",
        "from tensorflow.keras import layers,models\n",
        "from sklearn.model_selection import train_test_split\n",
        "from sklearn.preprocessing import StandardScaler"
      ]
    },
    {
      "cell_type": "code",
      "source": [
        "df=pd.read_csv(\"/content/diabetes.csv\")\n",
        "x=df.iloc[:,0:8]\n",
        "y=df[\"Outcome\"]\n",
        "obj=StandardScaler()\n",
        "x_=obj.fit_transform(x)\n",
        "Xtrain,Xtest,Ytrain,Ytest=train_test_split(x_,y,test_size=0.1)"
      ],
      "metadata": {
        "id": "RDiDQc1FjS-B"
      },
      "execution_count": 3,
      "outputs": []
    },
    {
      "cell_type": "code",
      "source": [
        "model=models.Sequential()\n",
        "model.add(layers.Dense(100,activation=\"relu\"))\n",
        "#model.add(layers.Dense(75,activation=\"relu\"))\n",
        "model.add(layers.Dense(50,activation=\"relu\"))\n",
        "#model.add(layers.Dense(25,activation=\"relu\"))\n",
        "model.add(layers.Dense(12,activation=\"relu\"))\n",
        "model.add(layers.Dense(8,activation=\"relu\"))\n",
        "model.add(layers.Dense(1,activation=\"sigmoid\"))\n",
        "model.compile(optimizer=\"adam\",loss=\"binary_crossentropy\",metrics=[\"accuracy\"])\n",
        "history=model.fit(Xtrain,Ytrain,epochs=50, validation_data=(Xtest,Ytest))\n",
        "result=model.evaluate(Xtest,Ytest)"
      ],
      "metadata": {
        "colab": {
          "base_uri": "https://localhost:8080/"
        },
        "id": "fpJ4EusSjwPV",
        "outputId": "86550b0e-e03c-40cb-b45f-5762813ecfa2"
      },
      "execution_count": 4,
      "outputs": [
        {
          "output_type": "stream",
          "name": "stdout",
          "text": [
            "Epoch 1/50\n",
            "22/22 [==============================] - 2s 19ms/step - loss: 0.6489 - accuracy: 0.6831 - val_loss: 0.5746 - val_accuracy: 0.7532\n",
            "Epoch 2/50\n",
            "22/22 [==============================] - 0s 6ms/step - loss: 0.5573 - accuracy: 0.7424 - val_loss: 0.4924 - val_accuracy: 0.7922\n",
            "Epoch 3/50\n",
            "22/22 [==============================] - 0s 5ms/step - loss: 0.4979 - accuracy: 0.7713 - val_loss: 0.4766 - val_accuracy: 0.7273\n",
            "Epoch 4/50\n",
            "22/22 [==============================] - 0s 5ms/step - loss: 0.4726 - accuracy: 0.7728 - val_loss: 0.4610 - val_accuracy: 0.8052\n",
            "Epoch 5/50\n",
            "22/22 [==============================] - 0s 6ms/step - loss: 0.4541 - accuracy: 0.7887 - val_loss: 0.4692 - val_accuracy: 0.7662\n",
            "Epoch 6/50\n",
            "22/22 [==============================] - 0s 5ms/step - loss: 0.4469 - accuracy: 0.7902 - val_loss: 0.4708 - val_accuracy: 0.7532\n",
            "Epoch 7/50\n",
            "22/22 [==============================] - 0s 6ms/step - loss: 0.4363 - accuracy: 0.7887 - val_loss: 0.4782 - val_accuracy: 0.7532\n",
            "Epoch 8/50\n",
            "22/22 [==============================] - 0s 6ms/step - loss: 0.4284 - accuracy: 0.7902 - val_loss: 0.4749 - val_accuracy: 0.7532\n",
            "Epoch 9/50\n",
            "22/22 [==============================] - 0s 5ms/step - loss: 0.4207 - accuracy: 0.8046 - val_loss: 0.4786 - val_accuracy: 0.7662\n",
            "Epoch 10/50\n",
            "22/22 [==============================] - 0s 7ms/step - loss: 0.4159 - accuracy: 0.8003 - val_loss: 0.4802 - val_accuracy: 0.7792\n",
            "Epoch 11/50\n",
            "22/22 [==============================] - 0s 7ms/step - loss: 0.4101 - accuracy: 0.8017 - val_loss: 0.4778 - val_accuracy: 0.7662\n",
            "Epoch 12/50\n",
            "22/22 [==============================] - 0s 7ms/step - loss: 0.4026 - accuracy: 0.8046 - val_loss: 0.4939 - val_accuracy: 0.7922\n",
            "Epoch 13/50\n",
            "22/22 [==============================] - 0s 6ms/step - loss: 0.3982 - accuracy: 0.8090 - val_loss: 0.4824 - val_accuracy: 0.7792\n",
            "Epoch 14/50\n",
            "22/22 [==============================] - 0s 7ms/step - loss: 0.3928 - accuracy: 0.8133 - val_loss: 0.4865 - val_accuracy: 0.7922\n",
            "Epoch 15/50\n",
            "22/22 [==============================] - 0s 7ms/step - loss: 0.3873 - accuracy: 0.8104 - val_loss: 0.5092 - val_accuracy: 0.7403\n",
            "Epoch 16/50\n",
            "22/22 [==============================] - 0s 6ms/step - loss: 0.3826 - accuracy: 0.8307 - val_loss: 0.5048 - val_accuracy: 0.7662\n",
            "Epoch 17/50\n",
            "22/22 [==============================] - 0s 5ms/step - loss: 0.3777 - accuracy: 0.8263 - val_loss: 0.4898 - val_accuracy: 0.7792\n",
            "Epoch 18/50\n",
            "22/22 [==============================] - 0s 5ms/step - loss: 0.3760 - accuracy: 0.8394 - val_loss: 0.5084 - val_accuracy: 0.7922\n",
            "Epoch 19/50\n",
            "22/22 [==============================] - 0s 6ms/step - loss: 0.3712 - accuracy: 0.8321 - val_loss: 0.5055 - val_accuracy: 0.8052\n",
            "Epoch 20/50\n",
            "22/22 [==============================] - 0s 6ms/step - loss: 0.3625 - accuracy: 0.8365 - val_loss: 0.5307 - val_accuracy: 0.7403\n",
            "Epoch 21/50\n",
            "22/22 [==============================] - 0s 4ms/step - loss: 0.3622 - accuracy: 0.8452 - val_loss: 0.5059 - val_accuracy: 0.7922\n",
            "Epoch 22/50\n",
            "22/22 [==============================] - 0s 5ms/step - loss: 0.3538 - accuracy: 0.8480 - val_loss: 0.5163 - val_accuracy: 0.7662\n",
            "Epoch 23/50\n",
            "22/22 [==============================] - 0s 6ms/step - loss: 0.3451 - accuracy: 0.8538 - val_loss: 0.4963 - val_accuracy: 0.7922\n",
            "Epoch 24/50\n",
            "22/22 [==============================] - 0s 8ms/step - loss: 0.3425 - accuracy: 0.8495 - val_loss: 0.5059 - val_accuracy: 0.8182\n",
            "Epoch 25/50\n",
            "22/22 [==============================] - 0s 7ms/step - loss: 0.3378 - accuracy: 0.8524 - val_loss: 0.5090 - val_accuracy: 0.7792\n",
            "Epoch 26/50\n",
            "22/22 [==============================] - 0s 6ms/step - loss: 0.3302 - accuracy: 0.8553 - val_loss: 0.5224 - val_accuracy: 0.7792\n",
            "Epoch 27/50\n",
            "22/22 [==============================] - 0s 7ms/step - loss: 0.3264 - accuracy: 0.8611 - val_loss: 0.5292 - val_accuracy: 0.7792\n",
            "Epoch 28/50\n",
            "22/22 [==============================] - 0s 6ms/step - loss: 0.3233 - accuracy: 0.8625 - val_loss: 0.5130 - val_accuracy: 0.8052\n",
            "Epoch 29/50\n",
            "22/22 [==============================] - 0s 6ms/step - loss: 0.3099 - accuracy: 0.8582 - val_loss: 0.5607 - val_accuracy: 0.7532\n",
            "Epoch 30/50\n",
            "22/22 [==============================] - 0s 8ms/step - loss: 0.3170 - accuracy: 0.8553 - val_loss: 0.5301 - val_accuracy: 0.7662\n",
            "Epoch 31/50\n",
            "22/22 [==============================] - 0s 6ms/step - loss: 0.3025 - accuracy: 0.8726 - val_loss: 0.5093 - val_accuracy: 0.8052\n",
            "Epoch 32/50\n",
            "22/22 [==============================] - 0s 3ms/step - loss: 0.3019 - accuracy: 0.8712 - val_loss: 0.5464 - val_accuracy: 0.7792\n",
            "Epoch 33/50\n",
            "22/22 [==============================] - 0s 3ms/step - loss: 0.2886 - accuracy: 0.8755 - val_loss: 0.5114 - val_accuracy: 0.7922\n",
            "Epoch 34/50\n",
            "22/22 [==============================] - 0s 3ms/step - loss: 0.2893 - accuracy: 0.8755 - val_loss: 0.5417 - val_accuracy: 0.7532\n",
            "Epoch 35/50\n",
            "22/22 [==============================] - 0s 3ms/step - loss: 0.2830 - accuracy: 0.8755 - val_loss: 0.5628 - val_accuracy: 0.7532\n",
            "Epoch 36/50\n",
            "22/22 [==============================] - 0s 3ms/step - loss: 0.2766 - accuracy: 0.8828 - val_loss: 0.5751 - val_accuracy: 0.7532\n",
            "Epoch 37/50\n",
            "22/22 [==============================] - 0s 4ms/step - loss: 0.2796 - accuracy: 0.8799 - val_loss: 0.5454 - val_accuracy: 0.7532\n",
            "Epoch 38/50\n",
            "22/22 [==============================] - 0s 3ms/step - loss: 0.2659 - accuracy: 0.8915 - val_loss: 0.5993 - val_accuracy: 0.7273\n",
            "Epoch 39/50\n",
            "22/22 [==============================] - 0s 3ms/step - loss: 0.2695 - accuracy: 0.8871 - val_loss: 0.6182 - val_accuracy: 0.7403\n",
            "Epoch 40/50\n",
            "22/22 [==============================] - 0s 3ms/step - loss: 0.2867 - accuracy: 0.8698 - val_loss: 0.5668 - val_accuracy: 0.7792\n",
            "Epoch 41/50\n",
            "22/22 [==============================] - 0s 4ms/step - loss: 0.2511 - accuracy: 0.9045 - val_loss: 0.5888 - val_accuracy: 0.7532\n",
            "Epoch 42/50\n",
            "22/22 [==============================] - 0s 4ms/step - loss: 0.2411 - accuracy: 0.9103 - val_loss: 0.5937 - val_accuracy: 0.7532\n",
            "Epoch 43/50\n",
            "22/22 [==============================] - 0s 3ms/step - loss: 0.2467 - accuracy: 0.9001 - val_loss: 0.5866 - val_accuracy: 0.7143\n",
            "Epoch 44/50\n",
            "22/22 [==============================] - 0s 3ms/step - loss: 0.2516 - accuracy: 0.8929 - val_loss: 0.6358 - val_accuracy: 0.7273\n",
            "Epoch 45/50\n",
            "22/22 [==============================] - 0s 3ms/step - loss: 0.2419 - accuracy: 0.9059 - val_loss: 0.6171 - val_accuracy: 0.7532\n",
            "Epoch 46/50\n",
            "22/22 [==============================] - 0s 3ms/step - loss: 0.2164 - accuracy: 0.9233 - val_loss: 0.6476 - val_accuracy: 0.7532\n",
            "Epoch 47/50\n",
            "22/22 [==============================] - 0s 3ms/step - loss: 0.2244 - accuracy: 0.9045 - val_loss: 0.6160 - val_accuracy: 0.7532\n",
            "Epoch 48/50\n",
            "22/22 [==============================] - 0s 3ms/step - loss: 0.2182 - accuracy: 0.9132 - val_loss: 0.6014 - val_accuracy: 0.7532\n",
            "Epoch 49/50\n",
            "22/22 [==============================] - 0s 3ms/step - loss: 0.2051 - accuracy: 0.9276 - val_loss: 0.6669 - val_accuracy: 0.7532\n",
            "Epoch 50/50\n",
            "22/22 [==============================] - 0s 4ms/step - loss: 0.2173 - accuracy: 0.9175 - val_loss: 0.6047 - val_accuracy: 0.7662\n",
            "3/3 [==============================] - 0s 5ms/step - loss: 0.6047 - accuracy: 0.7662\n"
          ]
        }
      ]
    },
    {
      "cell_type": "code",
      "source": [
        "plt.plot(history.history['loss'], label='loss')\n",
        "plt.xlabel('Epoch')\n",
        "plt.ylabel('loss')\n",
        "plt.ylim([0, 0.8])\n",
        "plt.legend(loc='lower right')\n",
        "test_loss, test_acc = model.evaluate(Xtest, Ytest, verbose=2)\n",
        "plt.ylim([0.6,1])\n",
        "plt.plot(history.history['accuracy'], label = 'accuracy')"
      ],
      "metadata": {
        "colab": {
          "base_uri": "https://localhost:8080/",
          "height": 318
        },
        "id": "TDwdmxRoj8QS",
        "outputId": "4bbb5252-39a3-427a-d896-1d01a027b86c"
      },
      "execution_count": 10,
      "outputs": [
        {
          "output_type": "stream",
          "name": "stdout",
          "text": [
            "3/3 - 0s - loss: 0.6047 - accuracy: 0.7662 - 58ms/epoch - 19ms/step\n"
          ]
        },
        {
          "output_type": "execute_result",
          "data": {
            "text/plain": [
              "[<matplotlib.lines.Line2D at 0x7fb8178a4710>]"
            ]
          },
          "metadata": {},
          "execution_count": 10
        },
        {
          "output_type": "display_data",
          "data": {
            "image/png": "[encoded data removed]",
            "text/plain": [
              "<Figure size 432x288 with 1 Axes>"
            ]
          },
          "metadata": {
            "needs_background": "light"
          }
        }
      ]
    },
    {
      "cell_type": "code",
      "source": [
        "plt.plot(history.history['val_accuracy'], label = 'val_accuracy')\n"
      ],
      "metadata": {
        "colab": {
          "base_uri": "https://localhost:8080/",
          "height": 282
        },
        "id": "nI0SCeWDkAPC",
        "outputId": "5582bd5a-3fe8-4dd2-a214-b1484d049d50"
      },
      "execution_count": 11,
      "outputs": [
        {
          "output_type": "execute_result",
          "data": {
            "text/plain": [
              "[<matplotlib.lines.Line2D at 0x7fb817873450>]"
            ]
          },
          "metadata": {},
          "execution_count": 11
        },
        {
          "output_type": "display_data",
          "data": {
            "image/png": "[encoded data removed]",
            "text/plain": [
              "<Figure size 432x288 with 1 Axes>"
            ]
          },
          "metadata": {
            "needs_background": "light"
          }
        }
      ]
    },
    {
      "cell_type": "code",
      "source": [
        ""
      ],
      "metadata": {
        "id": "h7Qd0hqIkN0J"
      },
      "execution_count": null,
      "outputs": []
    }
  ]
}